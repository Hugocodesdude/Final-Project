{
 "cells": [
  {
   "cell_type": "markdown",
   "id": "dbb49323",
   "metadata": {},
   "source": [
    "# Vehicles and Policy "
   ]
  },
  {
   "cell_type": "code",
   "execution_count": 1,
   "id": "4e8fcb5f",
   "metadata": {},
   "outputs": [],
   "source": [
    "import os\n",
    "import requests\n",
    "from bs4 import BeautifulSoup as bs4\n",
    "import seaborn as sns\n",
    "import matplotlib.pyplot as plt\n",
    "import pandas as pd\n",
    "import glob\n",
    "\n",
    "import pandas as pd\n",
    "import plotly.express as px\n",
    "import plotly.graph_objects as go\n",
    "import numpy as np\n",
    "import seaborn as sns\n",
    "import plotly.figure_factory as ff\n",
    "\n",
    "import folium\n",
    "from folium import Choropleth, Circle, Marker, Icon, Map\n",
    "from folium.plugins import HeatMap, MarkerCluster\n",
    "import pandas as pd\n",
    "\n",
    "from plotly.subplots import make_subplots"
   ]
  },
  {
   "cell_type": "markdown",
   "id": "5a6a0353",
   "metadata": {},
   "source": [
    "## Register of vehicles by tax horsepower"
   ]
  },
  {
   "cell_type": "code",
   "execution_count": 2,
   "id": "ebcc3304",
   "metadata": {},
   "outputs": [],
   "source": [
    "# read file & save to variable \n",
    "bcn_vehicles = pd.read_csv(\"//Users/hugosaccount/Desktop/IronHack/final_project/data/bcn/bcn_vehicles/2021_potencia_fiscal_turismes (1).csv\")"
   ]
  },
  {
   "cell_type": "code",
   "execution_count": 3,
   "id": "5150418c",
   "metadata": {},
   "outputs": [
    {
     "data": {
      "text/html": [
       "<div>\n",
       "<style scoped>\n",
       "    .dataframe tbody tr th:only-of-type {\n",
       "        vertical-align: middle;\n",
       "    }\n",
       "\n",
       "    .dataframe tbody tr th {\n",
       "        vertical-align: top;\n",
       "    }\n",
       "\n",
       "    .dataframe thead th {\n",
       "        text-align: right;\n",
       "    }\n",
       "</style>\n",
       "<table border=\"1\" class=\"dataframe\">\n",
       "  <thead>\n",
       "    <tr style=\"text-align: right;\">\n",
       "      <th></th>\n",
       "      <th>Any</th>\n",
       "      <th>Codi_Districte</th>\n",
       "      <th>Nom_Districte</th>\n",
       "      <th>Codi_Barri</th>\n",
       "      <th>Nom_Barri</th>\n",
       "      <th>Seccio_Censal</th>\n",
       "      <th>Potencia_Fiscal</th>\n",
       "      <th>Nombre_Turismes</th>\n",
       "    </tr>\n",
       "  </thead>\n",
       "  <tbody>\n",
       "    <tr>\n",
       "      <th>0</th>\n",
       "      <td>2021</td>\n",
       "      <td>1</td>\n",
       "      <td>Ciutat Vella</td>\n",
       "      <td>1</td>\n",
       "      <td>el Raval</td>\n",
       "      <td>1</td>\n",
       "      <td>Menys 8 cf</td>\n",
       "      <td>23</td>\n",
       "    </tr>\n",
       "    <tr>\n",
       "      <th>1</th>\n",
       "      <td>2021</td>\n",
       "      <td>1</td>\n",
       "      <td>Ciutat Vella</td>\n",
       "      <td>1</td>\n",
       "      <td>el Raval</td>\n",
       "      <td>1</td>\n",
       "      <td>8 a 8,9</td>\n",
       "      <td>6</td>\n",
       "    </tr>\n",
       "    <tr>\n",
       "      <th>2</th>\n",
       "      <td>2021</td>\n",
       "      <td>1</td>\n",
       "      <td>Ciutat Vella</td>\n",
       "      <td>1</td>\n",
       "      <td>el Raval</td>\n",
       "      <td>1</td>\n",
       "      <td>9 a 9,9</td>\n",
       "      <td>17</td>\n",
       "    </tr>\n",
       "    <tr>\n",
       "      <th>3</th>\n",
       "      <td>2021</td>\n",
       "      <td>1</td>\n",
       "      <td>Ciutat Vella</td>\n",
       "      <td>1</td>\n",
       "      <td>el Raval</td>\n",
       "      <td>1</td>\n",
       "      <td>10 a 10,9</td>\n",
       "      <td>31</td>\n",
       "    </tr>\n",
       "    <tr>\n",
       "      <th>4</th>\n",
       "      <td>2021</td>\n",
       "      <td>1</td>\n",
       "      <td>Ciutat Vella</td>\n",
       "      <td>1</td>\n",
       "      <td>el Raval</td>\n",
       "      <td>1</td>\n",
       "      <td>11 a 11,9</td>\n",
       "      <td>86</td>\n",
       "    </tr>\n",
       "    <tr>\n",
       "      <th>...</th>\n",
       "      <td>...</td>\n",
       "      <td>...</td>\n",
       "      <td>...</td>\n",
       "      <td>...</td>\n",
       "      <td>...</td>\n",
       "      <td>...</td>\n",
       "      <td>...</td>\n",
       "      <td>...</td>\n",
       "    </tr>\n",
       "    <tr>\n",
       "      <th>11711</th>\n",
       "      <td>2021</td>\n",
       "      <td>NC</td>\n",
       "      <td>No consta</td>\n",
       "      <td>NC</td>\n",
       "      <td>No consta</td>\n",
       "      <td>NC</td>\n",
       "      <td>13 a 13,9</td>\n",
       "      <td>30</td>\n",
       "    </tr>\n",
       "    <tr>\n",
       "      <th>11712</th>\n",
       "      <td>2021</td>\n",
       "      <td>NC</td>\n",
       "      <td>No consta</td>\n",
       "      <td>NC</td>\n",
       "      <td>No consta</td>\n",
       "      <td>NC</td>\n",
       "      <td>14 a 14,9</td>\n",
       "      <td>4</td>\n",
       "    </tr>\n",
       "    <tr>\n",
       "      <th>11713</th>\n",
       "      <td>2021</td>\n",
       "      <td>NC</td>\n",
       "      <td>No consta</td>\n",
       "      <td>NC</td>\n",
       "      <td>No consta</td>\n",
       "      <td>NC</td>\n",
       "      <td>15 a 15,9</td>\n",
       "      <td>3</td>\n",
       "    </tr>\n",
       "    <tr>\n",
       "      <th>11714</th>\n",
       "      <td>2021</td>\n",
       "      <td>NC</td>\n",
       "      <td>No consta</td>\n",
       "      <td>NC</td>\n",
       "      <td>No consta</td>\n",
       "      <td>NC</td>\n",
       "      <td>16 a 19,9</td>\n",
       "      <td>16</td>\n",
       "    </tr>\n",
       "    <tr>\n",
       "      <th>11715</th>\n",
       "      <td>2021</td>\n",
       "      <td>NC</td>\n",
       "      <td>No consta</td>\n",
       "      <td>NC</td>\n",
       "      <td>No consta</td>\n",
       "      <td>NC</td>\n",
       "      <td>20 i més cf</td>\n",
       "      <td>5</td>\n",
       "    </tr>\n",
       "  </tbody>\n",
       "</table>\n",
       "<p>11716 rows × 8 columns</p>\n",
       "</div>"
      ],
      "text/plain": [
       "        Any Codi_Districte Nom_Districte Codi_Barri  Nom_Barri Seccio_Censal  \\\n",
       "0      2021              1  Ciutat Vella          1   el Raval             1   \n",
       "1      2021              1  Ciutat Vella          1   el Raval             1   \n",
       "2      2021              1  Ciutat Vella          1   el Raval             1   \n",
       "3      2021              1  Ciutat Vella          1   el Raval             1   \n",
       "4      2021              1  Ciutat Vella          1   el Raval             1   \n",
       "...     ...            ...           ...        ...        ...           ...   \n",
       "11711  2021             NC     No consta         NC  No consta            NC   \n",
       "11712  2021             NC     No consta         NC  No consta            NC   \n",
       "11713  2021             NC     No consta         NC  No consta            NC   \n",
       "11714  2021             NC     No consta         NC  No consta            NC   \n",
       "11715  2021             NC     No consta         NC  No consta            NC   \n",
       "\n",
       "      Potencia_Fiscal  Nombre_Turismes  \n",
       "0          Menys 8 cf               23  \n",
       "1             8 a 8,9                6  \n",
       "2             9 a 9,9               17  \n",
       "3           10 a 10,9               31  \n",
       "4           11 a 11,9               86  \n",
       "...               ...              ...  \n",
       "11711       13 a 13,9               30  \n",
       "11712       14 a 14,9                4  \n",
       "11713       15 a 15,9                3  \n",
       "11714       16 a 19,9               16  \n",
       "11715     20 i més cf                5  \n",
       "\n",
       "[11716 rows x 8 columns]"
      ]
     },
     "execution_count": 3,
     "metadata": {},
     "output_type": "execute_result"
    }
   ],
   "source": [
    "bcn_vehicles"
   ]
  },
  {
   "cell_type": "code",
   "execution_count": 7,
   "id": "16251cc5",
   "metadata": {},
   "outputs": [
    {
     "name": "stdout",
     "output_type": "stream",
     "text": [
      "471145\n"
     ]
    }
   ],
   "source": [
    "Total = bcn_vehicles['Nombre_Turismes'].sum()\n",
    "print(Total)"
   ]
  },
  {
   "cell_type": "code",
   "execution_count": 12,
   "id": "b74ca612",
   "metadata": {},
   "outputs": [
    {
     "data": {
      "text/plain": [
       "706717.5"
      ]
     },
     "execution_count": 12,
     "metadata": {},
     "output_type": "execute_result"
    }
   ],
   "source": [
    "congestion_charge_day = Total * 1.5\n",
    "congestion_charge_dayLetmeinhere"
   ]
  },
  {
   "cell_type": "code",
   "execution_count": 14,
   "id": "84e336e7",
   "metadata": {},
   "outputs": [
    {
     "data": {
      "text/plain": [
       "21201525.0"
      ]
     },
     "execution_count": 14,
     "metadata": {},
     "output_type": "execute_result"
    }
   ],
   "source": [
    "month = 30 \n",
    "congestion_charge_day * month"
   ]
  },
  {
   "cell_type": "code",
   "execution_count": 13,
   "id": "e401c587",
   "metadata": {},
   "outputs": [
    {
     "data": {
      "text/plain": [
       "257951887.5"
      ]
     },
     "execution_count": 13,
     "metadata": {},
     "output_type": "execute_result"
    }
   ],
   "source": [
    "year = 365 \n",
    "congestion_charge_day * year"
   ]
  },
  {
   "cell_type": "code",
   "execution_count": 16,
   "id": "cbc8054a",
   "metadata": {},
   "outputs": [],
   "source": [
    "citytree = 22000"
   ]
  },
  {
   "cell_type": "code",
   "execution_count": 17,
   "id": "79e79dd1",
   "metadata": {},
   "outputs": [
    {
     "data": {
      "text/plain": [
       "32.12352272727273"
      ]
     },
     "execution_count": 17,
     "metadata": {},
     "output_type": "execute_result"
    }
   ],
   "source": [
    "congestion_charge_day / citytree"
   ]
  },
  {
   "cell_type": "code",
   "execution_count": null,
   "id": "75c8a477",
   "metadata": {},
   "outputs": [],
   "source": []
  }
 ],
 "metadata": {
  "kernelspec": {
   "display_name": "ironhack",
   "language": "python",
   "name": "ironhack"
  },
  "language_info": {
   "codemirror_mode": {
    "name": "ipython",
    "version": 3
   },
   "file_extension": ".py",
   "mimetype": "text/x-python",
   "name": "python",
   "nbconvert_exporter": "python",
   "pygments_lexer": "ipython3",
   "version": "3.9.13"
  }
 },
 "nbformat": 4,
 "nbformat_minor": 5
}
